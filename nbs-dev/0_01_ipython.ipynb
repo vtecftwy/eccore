{
 "cells": [
  {
   "cell_type": "markdown",
   "id": "6d4ddf06-eb2f-469d-99fb-25ead3b85093",
   "metadata": {},
   "source": [
    "# `ipython`\n",
    "> Set of utility functions to be used in Jupyter and Jupyter Lab notebooks.\n"
   ]
  },
  {
   "cell_type": "code",
   "execution_count": null,
   "id": "7c70747c",
   "metadata": {},
   "outputs": [],
   "source": [
    "#|default_exp ipython"
   ]
  },
  {
   "cell_type": "code",
   "execution_count": null,
   "id": "45f8c09e",
   "metadata": {},
   "outputs": [],
   "source": [
    "#| export\n",
    "from __future__ import annotations\n",
    "from fastcore.test import test_fail\n",
    "from functools import wraps\n",
    "from IPython.core.getipython import get_ipython\n",
    "from IPython.display import display, Markdown, display_markdown\n",
    "from pathlib import Path\n",
    "from typing import Any, List, Callable, Optional, Union\n",
    "from eccore.core import safe_path, path_to_parent_dir, is_type, CurrentMachine\n",
    "\n",
    "import numpy as np\n",
    "import pandas as pd\n",
    "import sys\n",
    "import subprocess\n",
    "import warnings"
   ]
  },
  {
   "cell_type": "code",
   "execution_count": null,
   "id": "f7b58bca-64c9-44a3-87e2-b627b0ac432f",
   "metadata": {},
   "outputs": [],
   "source": [
    "#| hide\n",
    "from nbdev import show_doc, nbdev_export"
   ]
  },
  {
   "cell_type": "markdown",
   "id": "8a7a989c",
   "metadata": {},
   "source": [
    "# System and CLI"
   ]
  },
  {
   "cell_type": "code",
   "execution_count": null,
   "id": "7f6340ce",
   "metadata": {},
   "outputs": [],
   "source": [
    "#| export\n",
    "\n",
    "# TODO: replace with fastcore run\n",
    "\n",
    "def run_cli(cmd:str = 'ls -l'   # command to execute in the cli\n",
    "           ):\n",
    "    \"\"\"Runs a cli command from jupyter notebook and print the shell output message\n",
    "    \n",
    "    Uses subprocess.run with passed command to run the cli command\"\"\"\n",
    "    p = subprocess.run(cmd, stdout=subprocess.PIPE, shell=True)\n",
    "    print(str(p.stdout, 'utf-8'))"
   ]
  },
  {
   "cell_type": "code",
   "execution_count": null,
   "id": "be0bd632",
   "metadata": {},
   "outputs": [
    {
     "name": "stdout",
     "output_type": "stream",
     "text": [
      "/home/vtec/projects/ec-packages/eccore/nbs-dev\n",
      "\n"
     ]
    }
   ],
   "source": [
    "run_cli('pwd')"
   ]
  },
  {
   "cell_type": "markdown",
   "id": "cfd19d98",
   "metadata": {},
   "source": [
    "# Notebook setup"
   ]
  },
  {
   "cell_type": "markdown",
   "id": "5c10f6fe",
   "metadata": {},
   "source": [
    "To be updated using fastcore functions, incl. `walk`, `in_notebook`, ..."
   ]
  },
  {
   "cell_type": "code",
   "execution_count": null,
   "id": "12098f5d",
   "metadata": {},
   "outputs": [],
   "source": [
    "#| export\n",
    "\n",
    "def nb_setup(\n",
    "    autoreload:bool = True,       # True to set autoreload in this notebook\n",
    "    paths: list[Union[str,Path]] = None   # Paths to add to the path environment variable\n",
    "    ):\n",
    "    \"\"\"Use in first cell of notebook to set autoreload, and add system paths\n",
    "    \n",
    "    Always add a path to the directoruy 'src' if `srs` directory exists at the same level as the `nbs` directory.\n",
    "\n",
    "    When the notebook is not located in a tree including the name `nbs`, `src` directory is searched at the same level\n",
    "    as the directory in which the notebook is located.\n",
    "    \"\"\"\n",
    "    #  Handle paths\n",
    "    #  Add src if it exists\n",
    "    nbs_root = path_to_parent_dir('nbs')\n",
    "    p2src = (nbs_root / '../src').resolve().absolute()\n",
    "    if p2src.is_dir():\n",
    "        p = str(p2src.absolute())\n",
    "        if p not in sys.path:\n",
    "            sys.path.insert(0, p)\n",
    "            print(f\"Added path: {p2src.absolute()}\")\n",
    "    # Add passed paths\n",
    "    if paths:\n",
    "        for p in paths:\n",
    "            if isinstance(p, Path): p = str(p.resolve().absolute())\n",
    "            if p not in sys.path:\n",
    "                sys.path.insert(1, p)\n",
    "                print(f\"Added path: {p}\")\n",
    "\n",
    "#   Setup auto reload\n",
    "    if autoreload:\n",
    "        ipshell = get_ipython()\n",
    "        ipshell.run_line_magic('load_ext',  'autoreload')\n",
    "        ipshell.run_line_magic('autoreload', '2')\n",
    "        print('Set autoreload mode')"
   ]
  },
  {
   "cell_type": "code",
   "execution_count": null,
   "id": "3fb15d8e",
   "metadata": {},
   "outputs": [
    {
     "data": {
      "text/markdown": [
       "---\n",
       "\n",
       "### nb_setup\n",
       "\n",
       ">      nb_setup (autoreload:bool=True,\n",
       ">                paths:list[typing.Union[str,pathlib.Path]]=None)\n",
       "\n",
       "*Use in first cell of notebook to set autoreload, and add system paths\n",
       "\n",
       "Always add a path to the directoruy 'src' if `srs` directory exists at the same level as the `nbs` directory.\n",
       "\n",
       "When the notebook is not located in a tree including the name `nbs`, `src` directory is searched at the same level\n",
       "as the directory in which the notebook is located.*\n",
       "\n",
       "|    | **Type** | **Default** | **Details** |\n",
       "| -- | -------- | ----------- | ----------- |\n",
       "| autoreload | bool | True | True to set autoreload in this notebook |\n",
       "| paths | list[Union[str, Path]] | None | Paths to add to the path environment variable |"
      ],
      "text/plain": [
       "---\n",
       "\n",
       "### nb_setup\n",
       "\n",
       ">      nb_setup (autoreload:bool=True,\n",
       ">                paths:list[typing.Union[str,pathlib.Path]]=None)\n",
       "\n",
       "*Use in first cell of notebook to set autoreload, and add system paths\n",
       "\n",
       "Always add a path to the directoruy 'src' if `srs` directory exists at the same level as the `nbs` directory.\n",
       "\n",
       "When the notebook is not located in a tree including the name `nbs`, `src` directory is searched at the same level\n",
       "as the directory in which the notebook is located.*\n",
       "\n",
       "|    | **Type** | **Default** | **Details** |\n",
       "| -- | -------- | ----------- | ----------- |\n",
       "| autoreload | bool | True | True to set autoreload in this notebook |\n",
       "| paths | list[Union[str, Path]] | None | Paths to add to the path environment variable |"
      ]
     },
     "execution_count": null,
     "metadata": {},
     "output_type": "execute_result"
    }
   ],
   "source": [
    "show_doc(nb_setup)"
   ]
  },
  {
   "cell_type": "markdown",
   "id": "e34bee72",
   "metadata": {},
   "source": [
    "By default, `ipython.nb_setup()` \n",
    "- loads and set `autoreload`\n",
    "- adds a path to a directory named `src` when it exists at the same level as where the notebook directory is located. It no such `src` directory exists, no path is added\n",
    "\n",
    "`ipython.nb_setup` assumes the following file structure:\n",
    "\n",
    "```\n",
    "    project_directory\n",
    "          |--- nbs\n",
    "          |     | --- current_nb.ipynb\n",
    "          |     | --- ...\n",
    "          |\n",
    "          |--- src\n",
    "          |     | --- module_to_import.py\n",
    "          |     | --- ...\n",
    "          |\n",
    "          |--- data\n",
    "          |     |\n",
    "          |     | ...\n",
    "```\n",
    "\n",
    "For other file structure, specify paths as a `list` of `Path`"
   ]
  },
  {
   "cell_type": "markdown",
   "id": "4c079208",
   "metadata": {},
   "source": [
    "Before running `nb_setup`, `sys.path` does not include the path to the local source directory. After running it, it will be added, unless the directory does not exist."
   ]
  },
  {
   "cell_type": "code",
   "execution_count": null,
   "id": "1fc6b17b",
   "metadata": {},
   "outputs": [
    {
     "data": {
      "text/plain": [
       "['/home/vtec/projects/ec-packages/eccore/nbs-dev',\n",
       " '/home/vtec/projects/lewagon/1286-Jul-2023/1_data-challenges/data-context-and-setup',\n",
       " '/home/vtec/projects/ec-packages/eccore/nbs-dev',\n",
       " '/home/vtec/miniconda3/envs/eccore/lib/python310.zip',\n",
       " '/home/vtec/miniconda3/envs/eccore/lib/python3.10',\n",
       " '/home/vtec/miniconda3/envs/eccore/lib/python3.10/lib-dynload',\n",
       " '',\n",
       " '/home/vtec/miniconda3/envs/eccore/lib/python3.10/site-packages',\n",
       " '/home/vtec/miniconda3/envs/eccore/lib/python3.10/site-packages/PyQt5_sip-12.11.0-py3.10-linux-x86_64.egg',\n",
       " '/home/vtec/projects/ec-packages/eccore']"
      ]
     },
     "execution_count": null,
     "metadata": {},
     "output_type": "execute_result"
    }
   ],
   "source": [
    "sys.path"
   ]
  },
  {
   "cell_type": "code",
   "execution_count": null,
   "id": "e7123f45",
   "metadata": {},
   "outputs": [],
   "source": [
    "nb_setup(autoreload=False)"
   ]
  },
  {
   "cell_type": "code",
   "execution_count": null,
   "id": "4937a544",
   "metadata": {},
   "outputs": [
    {
     "data": {
      "text/plain": [
       "['/home/vtec/projects/ec-packages/eccore/nbs-dev',\n",
       " '/home/vtec/projects/lewagon/1286-Jul-2023/1_data-challenges/data-context-and-setup',\n",
       " '/home/vtec/projects/ec-packages/eccore/nbs-dev',\n",
       " '/home/vtec/miniconda3/envs/eccore/lib/python310.zip',\n",
       " '/home/vtec/miniconda3/envs/eccore/lib/python3.10',\n",
       " '/home/vtec/miniconda3/envs/eccore/lib/python3.10/lib-dynload',\n",
       " '',\n",
       " '/home/vtec/miniconda3/envs/eccore/lib/python3.10/site-packages',\n",
       " '/home/vtec/miniconda3/envs/eccore/lib/python3.10/site-packages/PyQt5_sip-12.11.0-py3.10-linux-x86_64.egg',\n",
       " '/home/vtec/projects/ec-packages/eccore']"
      ]
     },
     "execution_count": null,
     "metadata": {},
     "output_type": "execute_result"
    }
   ],
   "source": [
    "sys.path"
   ]
  },
  {
   "cell_type": "markdown",
   "id": "f8af1c17",
   "metadata": {},
   "source": [
    "We also can add other specific paths:"
   ]
  },
  {
   "cell_type": "code",
   "execution_count": null,
   "id": "a3c61e23",
   "metadata": {},
   "outputs": [
    {
     "name": "stdout",
     "output_type": "stream",
     "text": [
      "Added path: /home/vtec/projects/ec-packages/eccore/nbs\n"
     ]
    }
   ],
   "source": [
    "path_to_add = str(Path('../nbs').resolve().absolute())\n",
    "nb_setup(autoreload=False, paths=[path_to_add])"
   ]
  },
  {
   "cell_type": "code",
   "execution_count": null,
   "id": "ca079b4f",
   "metadata": {},
   "outputs": [
    {
     "data": {
      "text/plain": [
       "['/home/vtec/projects/ec-packages/eccore/nbs-dev',\n",
       " '/home/vtec/projects/ec-packages/eccore/nbs',\n",
       " '/home/vtec/projects/lewagon/1286-Jul-2023/1_data-challenges/data-context-and-setup',\n",
       " '/home/vtec/projects/ec-packages/eccore/nbs-dev',\n",
       " '/home/vtec/miniconda3/envs/eccore/lib/python310.zip',\n",
       " '/home/vtec/miniconda3/envs/eccore/lib/python3.10',\n",
       " '/home/vtec/miniconda3/envs/eccore/lib/python3.10/lib-dynload',\n",
       " '',\n",
       " '/home/vtec/miniconda3/envs/eccore/lib/python3.10/site-packages',\n",
       " '/home/vtec/miniconda3/envs/eccore/lib/python3.10/site-packages/PyQt5_sip-12.11.0-py3.10-linux-x86_64.egg',\n",
       " '/home/vtec/projects/ec-packages/eccore']"
      ]
     },
     "execution_count": null,
     "metadata": {},
     "output_type": "execute_result"
    }
   ],
   "source": [
    "sys.path"
   ]
  },
  {
   "cell_type": "code",
   "execution_count": null,
   "id": "7b876ac2",
   "metadata": {},
   "outputs": [],
   "source": [
    "#| export\n",
    "def install_code_on_cloud(\n",
    "    package_name:str, # project package name, e.g. metagentools or git+https://github.com/repo.git@main\n",
    "    quiet:bool=False # install quietly with Trud\n",
    "):\n",
    "    \"\"\"pip install the project code package, when nb is running in the cloud.\"\"\"\n",
    "    \n",
    "    machine = CurrentMachine()\n",
    "\n",
    "    if machine.is_colab:\n",
    "        CLOUD = True\n",
    "        print('The notebook is running on colab.', end=' ')\n",
    "        print(f'Will install {package_name}')\n",
    "    elif machine.is_kaggle:\n",
    "        CLOUD = True\n",
    "        print('The notebook is running on kaggle.', end=' ')\n",
    "        print(f'Will install {package_name}')\n",
    "    elif machine.is_local:\n",
    "        CLOUD = False\n",
    "        print('The notebook is running locally, will not automatically install project code')\n",
    "    else:\n",
    "        CLOUD = True\n",
    "        print('The notebook is running on a cloud VM or the machine was not registered as local')\n",
    "        print(f'Will install {package_name}')\n",
    "\n",
    "    if CLOUD:\n",
    "        print(f'Installing project code {package_name}')\n",
    "        cmd = f\"pip install -{'qq' if quiet else ''}U {package_name}\"\n",
    "        run_cli(cmd)\n",
    "        print((f\"{package_name} is installed.\"))"
   ]
  },
  {
   "cell_type": "code",
   "execution_count": null,
   "id": "aad71e71",
   "metadata": {},
   "outputs": [
    {
     "data": {
      "text/markdown": [
       "---\n",
       "\n",
       "### install_code_on_cloud\n",
       "\n",
       ">      install_code_on_cloud (package_name:str, quiet:bool=False)\n",
       "\n",
       "*pip install the project code package, when nb is running in the cloud.*\n",
       "\n",
       "|    | **Type** | **Default** | **Details** |\n",
       "| -- | -------- | ----------- | ----------- |\n",
       "| package_name | str |  | project package name, e.g. metagentools or git+https://github.com/repo.git@main |\n",
       "| quiet | bool | False | install quietly with Trud |"
      ],
      "text/plain": [
       "---\n",
       "\n",
       "### install_code_on_cloud\n",
       "\n",
       ">      install_code_on_cloud (package_name:str, quiet:bool=False)\n",
       "\n",
       "*pip install the project code package, when nb is running in the cloud.*\n",
       "\n",
       "|    | **Type** | **Default** | **Details** |\n",
       "| -- | -------- | ----------- | ----------- |\n",
       "| package_name | str |  | project package name, e.g. metagentools or git+https://github.com/repo.git@main |\n",
       "| quiet | bool | False | install quietly with Trud |"
      ]
     },
     "execution_count": null,
     "metadata": {},
     "output_type": "execute_result"
    }
   ],
   "source": [
    "show_doc(install_code_on_cloud)"
   ]
  },
  {
   "cell_type": "markdown",
   "id": "1651f3d9",
   "metadata": {},
   "source": [
    "When using colab, kaggle or another cloud VM, specicif code must be installed every time from the Python Package Index (PyPI) or its GitHub repo.\n",
    "\n",
    "When running locally, the project code should be pre-installed as part of the environment"
   ]
  },
  {
   "cell_type": "code",
   "execution_count": null,
   "id": "7f46495f",
   "metadata": {},
   "outputs": [
    {
     "name": "stdout",
     "output_type": "stream",
     "text": [
      "The notebook is running locally, will not automatically install project code\n"
     ]
    }
   ],
   "source": [
    "install_code_on_cloud(package_name='metagentools');"
   ]
  },
  {
   "cell_type": "markdown",
   "id": "e70f14ef",
   "metadata": {},
   "source": [
    "# Improve output cell formats"
   ]
  },
  {
   "cell_type": "code",
   "execution_count": null,
   "id": "0d4241eb",
   "metadata": {},
   "outputs": [],
   "source": [
    "#| export\n",
    "def display_mds(\n",
    "    *strings:str|tuple[str] # any number of strings with text in markdown format\n",
    "):\n",
    "    \"\"\"Display one or several strings formatted in markdown format\"\"\"\n",
    "    for string in strings:\n",
    "        display_markdown(Markdown(data=string))"
   ]
  },
  {
   "cell_type": "code",
   "execution_count": null,
   "id": "083a5c0a",
   "metadata": {},
   "outputs": [
    {
     "data": {
      "text/markdown": [
       "---\n",
       "\n",
       "### display_mds\n",
       "\n",
       ">      display_mds (*strings:str|tuple[str])\n",
       "\n",
       "*Display one or several strings formatted in markdown format*"
      ],
      "text/plain": [
       "---\n",
       "\n",
       "### display_mds\n",
       "\n",
       ">      display_mds (*strings:str|tuple[str])\n",
       "\n",
       "*Display one or several strings formatted in markdown format*"
      ]
     },
     "execution_count": null,
     "metadata": {},
     "output_type": "execute_result"
    }
   ],
   "source": [
    "show_doc(display_mds)"
   ]
  },
  {
   "cell_type": "code",
   "execution_count": null,
   "id": "946d19e5-5df1-473f-ad2f-5187d7547187",
   "metadata": {},
   "outputs": [
    {
     "data": {
      "text/markdown": [
       "**bold** and _italic_"
      ]
     },
     "metadata": {},
     "output_type": "display_data"
    }
   ],
   "source": [
    "display_mds('**bold** and _italic_')"
   ]
  },
  {
   "cell_type": "code",
   "execution_count": null,
   "id": "0aa9e8ff-d821-4432-8187-9efb6d954105",
   "metadata": {},
   "outputs": [
    {
     "data": {
      "text/markdown": [
       "**bold** and _italic_"
      ]
     },
     "metadata": {},
     "output_type": "display_data"
    },
    {
     "data": {
      "text/markdown": [
       "- bullet"
      ]
     },
     "metadata": {},
     "output_type": "display_data"
    },
    {
     "data": {
      "text/markdown": [
       "- bullet"
      ]
     },
     "metadata": {},
     "output_type": "display_data"
    },
    {
     "data": {
      "text/markdown": [
       "> Note: this is a note"
      ]
     },
     "metadata": {},
     "output_type": "display_data"
    }
   ],
   "source": [
    "display_mds('**bold** and _italic_',\n",
    "            '- bullet',\n",
    "            '- bullet',\n",
    "            '> Note: this is a note'\n",
    ")"
   ]
  },
  {
   "cell_type": "code",
   "execution_count": null,
   "id": "0069ecfd",
   "metadata": {},
   "outputs": [],
   "source": [
    "#| export\n",
    "def display_dfs(*dfs:pd.DataFrame       # any number of Pandas DataFrames\n",
    "               ):\n",
    "    \"\"\"Display one or several `pd.DataFrame` in a single cell output\"\"\"\n",
    "    for df in dfs:\n",
    "        display(df)"
   ]
  },
  {
   "cell_type": "code",
   "execution_count": null,
   "id": "346757d9",
   "metadata": {},
   "outputs": [
    {
     "data": {
      "text/markdown": [
       "---\n",
       "\n",
       "### display_dfs\n",
       "\n",
       ">      display_dfs (*dfs:pandas.core.frame.DataFrame)\n",
       "\n",
       "*Display one or several `pd.DataFrame` in a single cell output*"
      ],
      "text/plain": [
       "---\n",
       "\n",
       "### display_dfs\n",
       "\n",
       ">      display_dfs (*dfs:pandas.core.frame.DataFrame)\n",
       "\n",
       "*Display one or several `pd.DataFrame` in a single cell output*"
      ]
     },
     "execution_count": null,
     "metadata": {},
     "output_type": "execute_result"
    }
   ],
   "source": [
    "show_doc(display_dfs)"
   ]
  },
  {
   "cell_type": "code",
   "execution_count": null,
   "id": "325e5098-8f86-4244-bccd-6005893dc539",
   "metadata": {},
   "outputs": [
    {
     "data": {
      "text/html": [
       "<div>\n",
       "<style scoped>\n",
       "    .dataframe tbody tr th:only-of-type {\n",
       "        vertical-align: middle;\n",
       "    }\n",
       "\n",
       "    .dataframe tbody tr th {\n",
       "        vertical-align: top;\n",
       "    }\n",
       "\n",
       "    .dataframe thead th {\n",
       "        text-align: right;\n",
       "    }\n",
       "</style>\n",
       "<table border=\"1\" class=\"dataframe\">\n",
       "  <thead>\n",
       "    <tr style=\"text-align: right;\">\n",
       "      <th></th>\n",
       "      <th>0</th>\n",
       "      <th>1</th>\n",
       "      <th>2</th>\n",
       "      <th>3</th>\n",
       "      <th>4</th>\n",
       "    </tr>\n",
       "  </thead>\n",
       "  <tbody>\n",
       "    <tr>\n",
       "      <th>0</th>\n",
       "      <td>1.181754</td>\n",
       "      <td>0.615892</td>\n",
       "      <td>-1.186460</td>\n",
       "      <td>-0.294719</td>\n",
       "      <td>-0.495170</td>\n",
       "    </tr>\n",
       "    <tr>\n",
       "      <th>1</th>\n",
       "      <td>-0.493491</td>\n",
       "      <td>0.380444</td>\n",
       "      <td>0.782281</td>\n",
       "      <td>-0.105894</td>\n",
       "      <td>-1.223624</td>\n",
       "    </tr>\n",
       "    <tr>\n",
       "      <th>2</th>\n",
       "      <td>-0.311006</td>\n",
       "      <td>1.246225</td>\n",
       "      <td>0.046744</td>\n",
       "      <td>0.050204</td>\n",
       "      <td>-1.087755</td>\n",
       "    </tr>\n",
       "  </tbody>\n",
       "</table>\n",
       "</div>"
      ],
      "text/plain": [
       "          0         1         2         3         4\n",
       "0  1.181754  0.615892 -1.186460 -0.294719 -0.495170\n",
       "1 -0.493491  0.380444  0.782281 -0.105894 -1.223624\n",
       "2 -0.311006  1.246225  0.046744  0.050204 -1.087755"
      ]
     },
     "metadata": {},
     "output_type": "display_data"
    },
    {
     "data": {
      "text/html": [
       "<div>\n",
       "<style scoped>\n",
       "    .dataframe tbody tr th:only-of-type {\n",
       "        vertical-align: middle;\n",
       "    }\n",
       "\n",
       "    .dataframe tbody tr th {\n",
       "        vertical-align: top;\n",
       "    }\n",
       "\n",
       "    .dataframe thead th {\n",
       "        text-align: right;\n",
       "    }\n",
       "</style>\n",
       "<table border=\"1\" class=\"dataframe\">\n",
       "  <thead>\n",
       "    <tr style=\"text-align: right;\">\n",
       "      <th></th>\n",
       "      <th>0</th>\n",
       "      <th>1</th>\n",
       "      <th>2</th>\n",
       "      <th>3</th>\n",
       "      <th>4</th>\n",
       "      <th>5</th>\n",
       "      <th>6</th>\n",
       "      <th>7</th>\n",
       "      <th>8</th>\n",
       "      <th>9</th>\n",
       "    </tr>\n",
       "  </thead>\n",
       "  <tbody>\n",
       "    <tr>\n",
       "      <th>0</th>\n",
       "      <td>-0.939571</td>\n",
       "      <td>0.394111</td>\n",
       "      <td>-0.140105</td>\n",
       "      <td>0.125774</td>\n",
       "      <td>-1.155984</td>\n",
       "      <td>0.285345</td>\n",
       "      <td>-1.539391</td>\n",
       "      <td>1.678055</td>\n",
       "      <td>-1.670574</td>\n",
       "      <td>-1.002644</td>\n",
       "    </tr>\n",
       "    <tr>\n",
       "      <th>1</th>\n",
       "      <td>0.301599</td>\n",
       "      <td>-0.462982</td>\n",
       "      <td>-0.559338</td>\n",
       "      <td>-0.726182</td>\n",
       "      <td>-0.711528</td>\n",
       "      <td>-0.984906</td>\n",
       "      <td>-0.607021</td>\n",
       "      <td>0.007495</td>\n",
       "      <td>-0.791158</td>\n",
       "      <td>-0.136291</td>\n",
       "    </tr>\n",
       "    <tr>\n",
       "      <th>2</th>\n",
       "      <td>-1.613467</td>\n",
       "      <td>0.405388</td>\n",
       "      <td>-0.600787</td>\n",
       "      <td>-0.291880</td>\n",
       "      <td>-1.579870</td>\n",
       "      <td>0.064600</td>\n",
       "      <td>1.236128</td>\n",
       "      <td>-0.128559</td>\n",
       "      <td>0.131884</td>\n",
       "      <td>0.173675</td>\n",
       "    </tr>\n",
       "  </tbody>\n",
       "</table>\n",
       "</div>"
      ],
      "text/plain": [
       "          0         1         2         3         4         5         6  \\\n",
       "0 -0.939571  0.394111 -0.140105  0.125774 -1.155984  0.285345 -1.539391   \n",
       "1  0.301599 -0.462982 -0.559338 -0.726182 -0.711528 -0.984906 -0.607021   \n",
       "2 -1.613467  0.405388 -0.600787 -0.291880 -1.579870  0.064600  1.236128   \n",
       "\n",
       "          7         8         9  \n",
       "0  1.678055 -1.670574 -1.002644  \n",
       "1  0.007495 -0.791158 -0.136291  \n",
       "2 -0.128559  0.131884  0.173675  "
      ]
     },
     "metadata": {},
     "output_type": "display_data"
    }
   ],
   "source": [
    "df1 = pd.DataFrame(data=np.random.normal(size=(10,5)))\n",
    "df2 = pd.DataFrame(data=np.random.normal(size=(20,10)))\n",
    "\n",
    "display_dfs(df1.head(3), df2.head(3))"
   ]
  },
  {
   "cell_type": "code",
   "execution_count": null,
   "id": "f77cd1ae",
   "metadata": {},
   "outputs": [],
   "source": [
    "#| export\n",
    "class pandas_nrows_ncols:\n",
    "    \"\"\"Context manager that sets the max number of rows and cols to apply to any output within the context\"\"\"\n",
    "    def __init__(\n",
    "        self, \n",
    "        nrows:int|None=None, # max number of rows to show; show all rows if `None`\n",
    "        ncols:int|None=None, # max number of columns to show; show all columns if `None`\n",
    "    ):\n",
    "        self.nrows = nrows\n",
    "        self.ncols = ncols\n",
    "    \n",
    "    def __enter__(self):\n",
    "        self.max_rows = pd.options.display.max_rows\n",
    "        self.max_cols = pd.options.display.max_columns\n",
    "        pd.options.display.max_rows = self.nrows\n",
    "        pd.options.display.max_columns = self.ncols\n",
    "        return self.max_rows, self.max_cols\n",
    "\n",
    "    def __exit__(self, exc_type, exc_value, exc_tb):\n",
    "        pd.options.display.max_rows = self.max_rows\n",
    "        pd.options.display.max_columns = self.max_cols"
   ]
  },
  {
   "cell_type": "code",
   "execution_count": null,
   "id": "0dd06ce6",
   "metadata": {},
   "outputs": [
    {
     "data": {
      "text/markdown": [
       "---\n",
       "\n",
       "### pandas_nrows_ncols\n",
       "\n",
       ">      pandas_nrows_ncols (nrows:int|None=None, ncols:int|None=None)\n",
       "\n",
       "*Context manager that sets the max number of rows and cols to apply to any output within the context*\n",
       "\n",
       "|    | **Type** | **Default** | **Details** |\n",
       "| -- | -------- | ----------- | ----------- |\n",
       "| nrows | int \\| None | None | max number of rows to show; show all rows if `None` |\n",
       "| ncols | int \\| None | None | max number of columns to show; show all columns if `None` |"
      ],
      "text/plain": [
       "---\n",
       "\n",
       "### pandas_nrows_ncols\n",
       "\n",
       ">      pandas_nrows_ncols (nrows:int|None=None, ncols:int|None=None)\n",
       "\n",
       "*Context manager that sets the max number of rows and cols to apply to any output within the context*\n",
       "\n",
       "|    | **Type** | **Default** | **Details** |\n",
       "| -- | -------- | ----------- | ----------- |\n",
       "| nrows | int \\| None | None | max number of rows to show; show all rows if `None` |\n",
       "| ncols | int \\| None | None | max number of columns to show; show all columns if `None` |"
      ]
     },
     "execution_count": null,
     "metadata": {},
     "output_type": "execute_result"
    }
   ],
   "source": [
    "show_doc(pandas_nrows_ncols)"
   ]
  },
  {
   "cell_type": "markdown",
   "id": "312d0121",
   "metadata": {},
   "source": [
    "With no context manager, the pandas object are displayed with a maximum of 60 rows and 20 columns."
   ]
  },
  {
   "cell_type": "code",
   "execution_count": null,
   "id": "530f200d",
   "metadata": {},
   "outputs": [
    {
     "data": {
      "text/html": [
       "<div>\n",
       "<style scoped>\n",
       "    .dataframe tbody tr th:only-of-type {\n",
       "        vertical-align: middle;\n",
       "    }\n",
       "\n",
       "    .dataframe tbody tr th {\n",
       "        vertical-align: top;\n",
       "    }\n",
       "\n",
       "    .dataframe thead th {\n",
       "        text-align: right;\n",
       "    }\n",
       "</style>\n",
       "<table border=\"1\" class=\"dataframe\">\n",
       "  <thead>\n",
       "    <tr style=\"text-align: right;\">\n",
       "      <th></th>\n",
       "      <th>0</th>\n",
       "      <th>1</th>\n",
       "      <th>2</th>\n",
       "      <th>3</th>\n",
       "      <th>4</th>\n",
       "      <th>5</th>\n",
       "      <th>6</th>\n",
       "      <th>7</th>\n",
       "      <th>8</th>\n",
       "      <th>9</th>\n",
       "      <th>...</th>\n",
       "      <th>40</th>\n",
       "      <th>41</th>\n",
       "      <th>42</th>\n",
       "      <th>43</th>\n",
       "      <th>44</th>\n",
       "      <th>45</th>\n",
       "      <th>46</th>\n",
       "      <th>47</th>\n",
       "      <th>48</th>\n",
       "      <th>49</th>\n",
       "    </tr>\n",
       "  </thead>\n",
       "  <tbody>\n",
       "    <tr>\n",
       "      <th>0</th>\n",
       "      <td>35</td>\n",
       "      <td>70</td>\n",
       "      <td>23</td>\n",
       "      <td>27</td>\n",
       "      <td>0</td>\n",
       "      <td>1</td>\n",
       "      <td>23</td>\n",
       "      <td>55</td>\n",
       "      <td>80</td>\n",
       "      <td>30</td>\n",
       "      <td>...</td>\n",
       "      <td>39</td>\n",
       "      <td>39</td>\n",
       "      <td>83</td>\n",
       "      <td>19</td>\n",
       "      <td>51</td>\n",
       "      <td>49</td>\n",
       "      <td>23</td>\n",
       "      <td>26</td>\n",
       "      <td>41</td>\n",
       "      <td>38</td>\n",
       "    </tr>\n",
       "    <tr>\n",
       "      <th>1</th>\n",
       "      <td>74</td>\n",
       "      <td>78</td>\n",
       "      <td>0</td>\n",
       "      <td>16</td>\n",
       "      <td>18</td>\n",
       "      <td>37</td>\n",
       "      <td>18</td>\n",
       "      <td>21</td>\n",
       "      <td>27</td>\n",
       "      <td>45</td>\n",
       "      <td>...</td>\n",
       "      <td>19</td>\n",
       "      <td>50</td>\n",
       "      <td>29</td>\n",
       "      <td>65</td>\n",
       "      <td>87</td>\n",
       "      <td>16</td>\n",
       "      <td>5</td>\n",
       "      <td>39</td>\n",
       "      <td>79</td>\n",
       "      <td>13</td>\n",
       "    </tr>\n",
       "    <tr>\n",
       "      <th>2</th>\n",
       "      <td>64</td>\n",
       "      <td>71</td>\n",
       "      <td>83</td>\n",
       "      <td>74</td>\n",
       "      <td>54</td>\n",
       "      <td>75</td>\n",
       "      <td>80</td>\n",
       "      <td>6</td>\n",
       "      <td>2</td>\n",
       "      <td>2</td>\n",
       "      <td>...</td>\n",
       "      <td>87</td>\n",
       "      <td>41</td>\n",
       "      <td>91</td>\n",
       "      <td>46</td>\n",
       "      <td>79</td>\n",
       "      <td>37</td>\n",
       "      <td>6</td>\n",
       "      <td>94</td>\n",
       "      <td>81</td>\n",
       "      <td>77</td>\n",
       "    </tr>\n",
       "  </tbody>\n",
       "</table>\n",
       "<p>3 rows × 50 columns</p>\n",
       "</div>"
      ],
      "text/plain": [
       "   0   1   2   3   4   5   6   7   8   9   ...  40  41  42  43  44  45  46  \\\n",
       "0  35  70  23  27   0   1  23  55  80  30  ...  39  39  83  19  51  49  23   \n",
       "1  74  78   0  16  18  37  18  21  27  45  ...  19  50  29  65  87  16   5   \n",
       "2  64  71  83  74  54  75  80   6   2   2  ...  87  41  91  46  79  37   6   \n",
       "\n",
       "   47  48  49  \n",
       "0  26  41  38  \n",
       "1  39  79  13  \n",
       "2  94  81  77  \n",
       "\n",
       "[3 rows x 50 columns]"
      ]
     },
     "metadata": {},
     "output_type": "display_data"
    }
   ],
   "source": [
    "df = pd.DataFrame(np.random.randint(low=0, high=100, size=(3,50)))\n",
    "display(df)"
   ]
  },
  {
   "cell_type": "markdown",
   "id": "a7f1c34a",
   "metadata": {},
   "source": [
    "Using the context manager, all rows and columns will be displayed"
   ]
  },
  {
   "cell_type": "code",
   "execution_count": null,
   "id": "1bc95386",
   "metadata": {},
   "outputs": [
    {
     "data": {
      "text/html": [
       "<div>\n",
       "<style scoped>\n",
       "    .dataframe tbody tr th:only-of-type {\n",
       "        vertical-align: middle;\n",
       "    }\n",
       "\n",
       "    .dataframe tbody tr th {\n",
       "        vertical-align: top;\n",
       "    }\n",
       "\n",
       "    .dataframe thead th {\n",
       "        text-align: right;\n",
       "    }\n",
       "</style>\n",
       "<table border=\"1\" class=\"dataframe\">\n",
       "  <thead>\n",
       "    <tr style=\"text-align: right;\">\n",
       "      <th></th>\n",
       "      <th>0</th>\n",
       "      <th>1</th>\n",
       "      <th>2</th>\n",
       "      <th>3</th>\n",
       "      <th>4</th>\n",
       "      <th>5</th>\n",
       "      <th>6</th>\n",
       "      <th>7</th>\n",
       "      <th>8</th>\n",
       "      <th>9</th>\n",
       "      <th>10</th>\n",
       "      <th>11</th>\n",
       "      <th>12</th>\n",
       "      <th>13</th>\n",
       "      <th>14</th>\n",
       "      <th>15</th>\n",
       "      <th>16</th>\n",
       "      <th>17</th>\n",
       "      <th>18</th>\n",
       "      <th>19</th>\n",
       "      <th>20</th>\n",
       "      <th>21</th>\n",
       "      <th>22</th>\n",
       "      <th>23</th>\n",
       "      <th>24</th>\n",
       "      <th>25</th>\n",
       "      <th>26</th>\n",
       "      <th>27</th>\n",
       "      <th>28</th>\n",
       "      <th>29</th>\n",
       "      <th>30</th>\n",
       "      <th>31</th>\n",
       "      <th>32</th>\n",
       "      <th>33</th>\n",
       "      <th>34</th>\n",
       "      <th>35</th>\n",
       "      <th>36</th>\n",
       "      <th>37</th>\n",
       "      <th>38</th>\n",
       "      <th>39</th>\n",
       "      <th>40</th>\n",
       "      <th>41</th>\n",
       "      <th>42</th>\n",
       "      <th>43</th>\n",
       "      <th>44</th>\n",
       "      <th>45</th>\n",
       "      <th>46</th>\n",
       "      <th>47</th>\n",
       "      <th>48</th>\n",
       "      <th>49</th>\n",
       "    </tr>\n",
       "  </thead>\n",
       "  <tbody>\n",
       "    <tr>\n",
       "      <th>0</th>\n",
       "      <td>35</td>\n",
       "      <td>70</td>\n",
       "      <td>23</td>\n",
       "      <td>27</td>\n",
       "      <td>0</td>\n",
       "      <td>1</td>\n",
       "      <td>23</td>\n",
       "      <td>55</td>\n",
       "      <td>80</td>\n",
       "      <td>30</td>\n",
       "      <td>78</td>\n",
       "      <td>12</td>\n",
       "      <td>69</td>\n",
       "      <td>89</td>\n",
       "      <td>44</td>\n",
       "      <td>57</td>\n",
       "      <td>30</td>\n",
       "      <td>0</td>\n",
       "      <td>16</td>\n",
       "      <td>49</td>\n",
       "      <td>29</td>\n",
       "      <td>2</td>\n",
       "      <td>14</td>\n",
       "      <td>51</td>\n",
       "      <td>48</td>\n",
       "      <td>61</td>\n",
       "      <td>85</td>\n",
       "      <td>19</td>\n",
       "      <td>71</td>\n",
       "      <td>87</td>\n",
       "      <td>30</td>\n",
       "      <td>94</td>\n",
       "      <td>27</td>\n",
       "      <td>59</td>\n",
       "      <td>57</td>\n",
       "      <td>29</td>\n",
       "      <td>88</td>\n",
       "      <td>71</td>\n",
       "      <td>41</td>\n",
       "      <td>0</td>\n",
       "      <td>39</td>\n",
       "      <td>39</td>\n",
       "      <td>83</td>\n",
       "      <td>19</td>\n",
       "      <td>51</td>\n",
       "      <td>49</td>\n",
       "      <td>23</td>\n",
       "      <td>26</td>\n",
       "      <td>41</td>\n",
       "      <td>38</td>\n",
       "    </tr>\n",
       "    <tr>\n",
       "      <th>1</th>\n",
       "      <td>74</td>\n",
       "      <td>78</td>\n",
       "      <td>0</td>\n",
       "      <td>16</td>\n",
       "      <td>18</td>\n",
       "      <td>37</td>\n",
       "      <td>18</td>\n",
       "      <td>21</td>\n",
       "      <td>27</td>\n",
       "      <td>45</td>\n",
       "      <td>80</td>\n",
       "      <td>6</td>\n",
       "      <td>71</td>\n",
       "      <td>38</td>\n",
       "      <td>5</td>\n",
       "      <td>7</td>\n",
       "      <td>76</td>\n",
       "      <td>19</td>\n",
       "      <td>71</td>\n",
       "      <td>35</td>\n",
       "      <td>8</td>\n",
       "      <td>36</td>\n",
       "      <td>98</td>\n",
       "      <td>69</td>\n",
       "      <td>64</td>\n",
       "      <td>42</td>\n",
       "      <td>34</td>\n",
       "      <td>1</td>\n",
       "      <td>39</td>\n",
       "      <td>53</td>\n",
       "      <td>42</td>\n",
       "      <td>27</td>\n",
       "      <td>22</td>\n",
       "      <td>47</td>\n",
       "      <td>88</td>\n",
       "      <td>81</td>\n",
       "      <td>26</td>\n",
       "      <td>94</td>\n",
       "      <td>44</td>\n",
       "      <td>86</td>\n",
       "      <td>19</td>\n",
       "      <td>50</td>\n",
       "      <td>29</td>\n",
       "      <td>65</td>\n",
       "      <td>87</td>\n",
       "      <td>16</td>\n",
       "      <td>5</td>\n",
       "      <td>39</td>\n",
       "      <td>79</td>\n",
       "      <td>13</td>\n",
       "    </tr>\n",
       "    <tr>\n",
       "      <th>2</th>\n",
       "      <td>64</td>\n",
       "      <td>71</td>\n",
       "      <td>83</td>\n",
       "      <td>74</td>\n",
       "      <td>54</td>\n",
       "      <td>75</td>\n",
       "      <td>80</td>\n",
       "      <td>6</td>\n",
       "      <td>2</td>\n",
       "      <td>2</td>\n",
       "      <td>6</td>\n",
       "      <td>61</td>\n",
       "      <td>8</td>\n",
       "      <td>22</td>\n",
       "      <td>64</td>\n",
       "      <td>45</td>\n",
       "      <td>57</td>\n",
       "      <td>67</td>\n",
       "      <td>23</td>\n",
       "      <td>62</td>\n",
       "      <td>96</td>\n",
       "      <td>10</td>\n",
       "      <td>61</td>\n",
       "      <td>63</td>\n",
       "      <td>92</td>\n",
       "      <td>8</td>\n",
       "      <td>39</td>\n",
       "      <td>26</td>\n",
       "      <td>53</td>\n",
       "      <td>79</td>\n",
       "      <td>5</td>\n",
       "      <td>98</td>\n",
       "      <td>41</td>\n",
       "      <td>16</td>\n",
       "      <td>99</td>\n",
       "      <td>89</td>\n",
       "      <td>14</td>\n",
       "      <td>41</td>\n",
       "      <td>9</td>\n",
       "      <td>0</td>\n",
       "      <td>87</td>\n",
       "      <td>41</td>\n",
       "      <td>91</td>\n",
       "      <td>46</td>\n",
       "      <td>79</td>\n",
       "      <td>37</td>\n",
       "      <td>6</td>\n",
       "      <td>94</td>\n",
       "      <td>81</td>\n",
       "      <td>77</td>\n",
       "    </tr>\n",
       "  </tbody>\n",
       "</table>\n",
       "</div>"
      ],
      "text/plain": [
       "   0   1   2   3   4   5   6   7   8   9   10  11  12  13  14  15  16  17  18  \\\n",
       "0  35  70  23  27   0   1  23  55  80  30  78  12  69  89  44  57  30   0  16   \n",
       "1  74  78   0  16  18  37  18  21  27  45  80   6  71  38   5   7  76  19  71   \n",
       "2  64  71  83  74  54  75  80   6   2   2   6  61   8  22  64  45  57  67  23   \n",
       "\n",
       "   19  20  21  22  23  24  25  26  27  28  29  30  31  32  33  34  35  36  37  \\\n",
       "0  49  29   2  14  51  48  61  85  19  71  87  30  94  27  59  57  29  88  71   \n",
       "1  35   8  36  98  69  64  42  34   1  39  53  42  27  22  47  88  81  26  94   \n",
       "2  62  96  10  61  63  92   8  39  26  53  79   5  98  41  16  99  89  14  41   \n",
       "\n",
       "   38  39  40  41  42  43  44  45  46  47  48  49  \n",
       "0  41   0  39  39  83  19  51  49  23  26  41  38  \n",
       "1  44  86  19  50  29  65  87  16   5  39  79  13  \n",
       "2   9   0  87  41  91  46  79  37   6  94  81  77  "
      ]
     },
     "metadata": {},
     "output_type": "display_data"
    }
   ],
   "source": [
    "with pandas_nrows_ncols():\n",
    "    display(df)"
   ]
  },
  {
   "cell_type": "markdown",
   "id": "51011224",
   "metadata": {},
   "source": [
    "It is also possible to specifically define the number of rows and columns to display"
   ]
  },
  {
   "cell_type": "code",
   "execution_count": null,
   "id": "fc449d7f",
   "metadata": {},
   "outputs": [
    {
     "data": {
      "text/html": [
       "<div>\n",
       "<style scoped>\n",
       "    .dataframe tbody tr th:only-of-type {\n",
       "        vertical-align: middle;\n",
       "    }\n",
       "\n",
       "    .dataframe tbody tr th {\n",
       "        vertical-align: top;\n",
       "    }\n",
       "\n",
       "    .dataframe thead th {\n",
       "        text-align: right;\n",
       "    }\n",
       "</style>\n",
       "<table border=\"1\" class=\"dataframe\">\n",
       "  <thead>\n",
       "    <tr style=\"text-align: right;\">\n",
       "      <th></th>\n",
       "      <th>0</th>\n",
       "      <th>1</th>\n",
       "      <th>2</th>\n",
       "      <th>...</th>\n",
       "      <th>47</th>\n",
       "      <th>48</th>\n",
       "      <th>49</th>\n",
       "    </tr>\n",
       "  </thead>\n",
       "  <tbody>\n",
       "    <tr>\n",
       "      <th>0</th>\n",
       "      <td>35</td>\n",
       "      <td>70</td>\n",
       "      <td>23</td>\n",
       "      <td>...</td>\n",
       "      <td>26</td>\n",
       "      <td>41</td>\n",
       "      <td>38</td>\n",
       "    </tr>\n",
       "    <tr>\n",
       "      <th>...</th>\n",
       "      <td>...</td>\n",
       "      <td>...</td>\n",
       "      <td>...</td>\n",
       "      <td>...</td>\n",
       "      <td>...</td>\n",
       "      <td>...</td>\n",
       "      <td>...</td>\n",
       "    </tr>\n",
       "    <tr>\n",
       "      <th>2</th>\n",
       "      <td>64</td>\n",
       "      <td>71</td>\n",
       "      <td>83</td>\n",
       "      <td>...</td>\n",
       "      <td>94</td>\n",
       "      <td>81</td>\n",
       "      <td>77</td>\n",
       "    </tr>\n",
       "  </tbody>\n",
       "</table>\n",
       "<p>3 rows × 50 columns</p>\n",
       "</div>"
      ],
      "text/plain": [
       "    0   1   2   ...  47  48  49\n",
       "0   35  70  23  ...  26  41  38\n",
       "..  ..  ..  ..  ...  ..  ..  ..\n",
       "2   64  71  83  ...  94  81  77\n",
       "\n",
       "[3 rows x 50 columns]"
      ]
     },
     "metadata": {},
     "output_type": "display_data"
    }
   ],
   "source": [
    "with pandas_nrows_ncols(nrows=2, ncols=6):\n",
    "    display(df)"
   ]
  },
  {
   "cell_type": "code",
   "execution_count": null,
   "id": "567cb9b2",
   "metadata": {},
   "outputs": [
    {
     "name": "stdout",
     "output_type": "stream",
     "text": [
      "    0   1   2   ...  47  48  49\n",
      "0   35  70  23  ...  26  41  38\n",
      "..  ..  ..  ..  ...  ..  ..  ..\n",
      "2   64  71  83  ...  94  81  77\n",
      "\n",
      "[3 rows x 50 columns]\n"
     ]
    }
   ],
   "source": [
    "with pandas_nrows_ncols(2,6):\n",
    "    print(df)"
   ]
  },
  {
   "cell_type": "markdown",
   "id": "6efe499e",
   "metadata": {},
   "source": [
    "> ### Technical background\n",
    "> \n",
    "> the context manager uses pandas's [`options API`](https://pandas.pydata.org/docs/user_guide/options.html)"
   ]
  },
  {
   "cell_type": "code",
   "execution_count": null,
   "id": "e8d56144",
   "metadata": {},
   "outputs": [
    {
     "data": {
      "text/plain": [
       "(60, 20)"
      ]
     },
     "execution_count": null,
     "metadata": {},
     "output_type": "execute_result"
    }
   ],
   "source": [
    "pd.options.display.max_rows, pd.options.display.max_columns"
   ]
  },
  {
   "cell_type": "code",
   "execution_count": null,
   "id": "7fc397e3",
   "metadata": {},
   "outputs": [
    {
     "data": {
      "text/plain": [
       "(60, 20)"
      ]
     },
     "execution_count": null,
     "metadata": {},
     "output_type": "execute_result"
    }
   ],
   "source": [
    "pd.get_option('display.max_rows'), pd.get_option('display.max_columns')"
   ]
  },
  {
   "cell_type": "code",
   "execution_count": null,
   "id": "7916ef1a",
   "metadata": {},
   "outputs": [
    {
     "name": "stdout",
     "output_type": "stream",
     "text": [
      "display.max_rows : int\n",
      "    If max_rows is exceeded, switch to truncate view. Depending on\n",
      "    `large_repr`, objects are either centrally truncated or printed as\n",
      "    a summary view. 'None' value means unlimited.\n",
      "\n",
      "    In case python/IPython is running in a terminal and `large_repr`\n",
      "    equals 'truncate' this can be set to 0 and pandas will auto-detect\n",
      "    the height of the terminal and print a truncated object which fits\n",
      "    the screen height. The IPython notebook, IPython qtconsole, or\n",
      "    IDLE do not run in a terminal and hence it is not possible to do\n",
      "    correct auto-detection.\n",
      "    [default: 60] [currently: 60]\n"
     ]
    }
   ],
   "source": [
    "pd.describe_option('display.max_rows')"
   ]
  },
  {
   "cell_type": "code",
   "execution_count": null,
   "id": "d906dc16",
   "metadata": {},
   "outputs": [
    {
     "data": {
      "text/plain": [
       "60"
      ]
     },
     "execution_count": null,
     "metadata": {},
     "output_type": "execute_result"
    }
   ],
   "source": [
    "pd.options.display.max_rows = 10\n",
    "pd.reset_option('display.max_rows')\n",
    "pd.options.display.max_rows"
   ]
  },
  {
   "cell_type": "code",
   "execution_count": null,
   "id": "d480da5d",
   "metadata": {},
   "outputs": [],
   "source": [
    "#| export\n",
    "def display_full_df(\n",
    "    df:pd.DataFrame|pd.Series,  # `DataFrame` or `Series` to display\n",
    "):\n",
    "    \"\"\"Display a pandas `DataFrame` or `Series` showing all rows and columns\"\"\"\n",
    "    if is_type(df, pd.DataFrame, raise_error=False) or is_type(df, pd.Series, raise_error=False):\n",
    "        with pandas_nrows_ncols():\n",
    "            display(df)\n",
    "    else:\n",
    "        raise TypeError(f\"df must me a pandas `DataFrame` or `Series`, not a {type(df)}\")"
   ]
  },
  {
   "cell_type": "code",
   "execution_count": null,
   "id": "18e6106f",
   "metadata": {},
   "outputs": [
    {
     "data": {
      "text/markdown": [
       "---\n",
       "\n",
       "### display_full_df\n",
       "\n",
       ">      display_full_df\n",
       ">                       (df:pandas.core.frame.DataFrame|pandas.core.series.Serie\n",
       ">                       s)\n",
       "\n",
       "*Display a pandas `DataFrame` or `Series` showing all rows and columns*\n",
       "\n",
       "|    | **Type** | **Details** |\n",
       "| -- | -------- | ----------- |\n",
       "| df | pd.DataFrame \\| pd.Series | `DataFrame` or `Series` to display |"
      ],
      "text/plain": [
       "---\n",
       "\n",
       "### display_full_df\n",
       "\n",
       ">      display_full_df\n",
       ">                       (df:pandas.core.frame.DataFrame|pandas.core.series.Serie\n",
       ">                       s)\n",
       "\n",
       "*Display a pandas `DataFrame` or `Series` showing all rows and columns*\n",
       "\n",
       "|    | **Type** | **Details** |\n",
       "| -- | -------- | ----------- |\n",
       "| df | pd.DataFrame \\| pd.Series | `DataFrame` or `Series` to display |"
      ]
     },
     "execution_count": null,
     "metadata": {},
     "output_type": "execute_result"
    }
   ],
   "source": [
    "show_doc(display_full_df)"
   ]
  },
  {
   "cell_type": "code",
   "execution_count": null,
   "id": "7847e07e",
   "metadata": {},
   "outputs": [
    {
     "data": {
      "text/html": [
       "<div>\n",
       "<style scoped>\n",
       "    .dataframe tbody tr th:only-of-type {\n",
       "        vertical-align: middle;\n",
       "    }\n",
       "\n",
       "    .dataframe tbody tr th {\n",
       "        vertical-align: top;\n",
       "    }\n",
       "\n",
       "    .dataframe thead th {\n",
       "        text-align: right;\n",
       "    }\n",
       "</style>\n",
       "<table border=\"1\" class=\"dataframe\">\n",
       "  <thead>\n",
       "    <tr style=\"text-align: right;\">\n",
       "      <th></th>\n",
       "      <th>0</th>\n",
       "      <th>1</th>\n",
       "      <th>2</th>\n",
       "      <th>3</th>\n",
       "      <th>4</th>\n",
       "      <th>5</th>\n",
       "      <th>6</th>\n",
       "      <th>7</th>\n",
       "      <th>8</th>\n",
       "      <th>9</th>\n",
       "      <th>...</th>\n",
       "      <th>40</th>\n",
       "      <th>41</th>\n",
       "      <th>42</th>\n",
       "      <th>43</th>\n",
       "      <th>44</th>\n",
       "      <th>45</th>\n",
       "      <th>46</th>\n",
       "      <th>47</th>\n",
       "      <th>48</th>\n",
       "      <th>49</th>\n",
       "    </tr>\n",
       "  </thead>\n",
       "  <tbody>\n",
       "    <tr>\n",
       "      <th>0</th>\n",
       "      <td>61</td>\n",
       "      <td>70</td>\n",
       "      <td>53</td>\n",
       "      <td>42</td>\n",
       "      <td>29</td>\n",
       "      <td>48</td>\n",
       "      <td>99</td>\n",
       "      <td>7</td>\n",
       "      <td>22</td>\n",
       "      <td>12</td>\n",
       "      <td>...</td>\n",
       "      <td>9</td>\n",
       "      <td>21</td>\n",
       "      <td>81</td>\n",
       "      <td>91</td>\n",
       "      <td>3</td>\n",
       "      <td>72</td>\n",
       "      <td>92</td>\n",
       "      <td>44</td>\n",
       "      <td>47</td>\n",
       "      <td>41</td>\n",
       "    </tr>\n",
       "    <tr>\n",
       "      <th>1</th>\n",
       "      <td>6</td>\n",
       "      <td>27</td>\n",
       "      <td>8</td>\n",
       "      <td>89</td>\n",
       "      <td>14</td>\n",
       "      <td>66</td>\n",
       "      <td>58</td>\n",
       "      <td>37</td>\n",
       "      <td>57</td>\n",
       "      <td>19</td>\n",
       "      <td>...</td>\n",
       "      <td>40</td>\n",
       "      <td>42</td>\n",
       "      <td>23</td>\n",
       "      <td>10</td>\n",
       "      <td>38</td>\n",
       "      <td>83</td>\n",
       "      <td>0</td>\n",
       "      <td>5</td>\n",
       "      <td>74</td>\n",
       "      <td>44</td>\n",
       "    </tr>\n",
       "    <tr>\n",
       "      <th>2</th>\n",
       "      <td>91</td>\n",
       "      <td>1</td>\n",
       "      <td>65</td>\n",
       "      <td>57</td>\n",
       "      <td>5</td>\n",
       "      <td>23</td>\n",
       "      <td>90</td>\n",
       "      <td>33</td>\n",
       "      <td>15</td>\n",
       "      <td>64</td>\n",
       "      <td>...</td>\n",
       "      <td>36</td>\n",
       "      <td>79</td>\n",
       "      <td>62</td>\n",
       "      <td>97</td>\n",
       "      <td>72</td>\n",
       "      <td>44</td>\n",
       "      <td>0</td>\n",
       "      <td>67</td>\n",
       "      <td>63</td>\n",
       "      <td>85</td>\n",
       "    </tr>\n",
       "  </tbody>\n",
       "</table>\n",
       "<p>3 rows × 50 columns</p>\n",
       "</div>"
      ],
      "text/plain": [
       "   0   1   2   3   4   5   6   7   8   9   ...  40  41  42  43  44  45  46  \\\n",
       "0  61  70  53  42  29  48  99   7  22  12  ...   9  21  81  91   3  72  92   \n",
       "1   6  27   8  89  14  66  58  37  57  19  ...  40  42  23  10  38  83   0   \n",
       "2  91   1  65  57   5  23  90  33  15  64  ...  36  79  62  97  72  44   0   \n",
       "\n",
       "   47  48  49  \n",
       "0  44  47  41  \n",
       "1   5  74  44  \n",
       "2  67  63  85  \n",
       "\n",
       "[3 rows x 50 columns]"
      ]
     },
     "execution_count": null,
     "metadata": {},
     "output_type": "execute_result"
    }
   ],
   "source": [
    "df = pd.DataFrame(np.random.randint(low=0, high=100, size=(3,50)))\n",
    "df"
   ]
  },
  {
   "cell_type": "code",
   "execution_count": null,
   "id": "eece8149",
   "metadata": {},
   "outputs": [
    {
     "data": {
      "text/html": [
       "<div>\n",
       "<style scoped>\n",
       "    .dataframe tbody tr th:only-of-type {\n",
       "        vertical-align: middle;\n",
       "    }\n",
       "\n",
       "    .dataframe tbody tr th {\n",
       "        vertical-align: top;\n",
       "    }\n",
       "\n",
       "    .dataframe thead th {\n",
       "        text-align: right;\n",
       "    }\n",
       "</style>\n",
       "<table border=\"1\" class=\"dataframe\">\n",
       "  <thead>\n",
       "    <tr style=\"text-align: right;\">\n",
       "      <th></th>\n",
       "      <th>0</th>\n",
       "      <th>1</th>\n",
       "      <th>2</th>\n",
       "      <th>3</th>\n",
       "      <th>4</th>\n",
       "      <th>5</th>\n",
       "      <th>6</th>\n",
       "      <th>7</th>\n",
       "      <th>8</th>\n",
       "      <th>9</th>\n",
       "      <th>10</th>\n",
       "      <th>11</th>\n",
       "      <th>12</th>\n",
       "      <th>13</th>\n",
       "      <th>14</th>\n",
       "      <th>15</th>\n",
       "      <th>16</th>\n",
       "      <th>17</th>\n",
       "      <th>18</th>\n",
       "      <th>19</th>\n",
       "      <th>20</th>\n",
       "      <th>21</th>\n",
       "      <th>22</th>\n",
       "      <th>23</th>\n",
       "      <th>24</th>\n",
       "      <th>25</th>\n",
       "      <th>26</th>\n",
       "      <th>27</th>\n",
       "      <th>28</th>\n",
       "      <th>29</th>\n",
       "      <th>30</th>\n",
       "      <th>31</th>\n",
       "      <th>32</th>\n",
       "      <th>33</th>\n",
       "      <th>34</th>\n",
       "      <th>35</th>\n",
       "      <th>36</th>\n",
       "      <th>37</th>\n",
       "      <th>38</th>\n",
       "      <th>39</th>\n",
       "      <th>40</th>\n",
       "      <th>41</th>\n",
       "      <th>42</th>\n",
       "      <th>43</th>\n",
       "      <th>44</th>\n",
       "      <th>45</th>\n",
       "      <th>46</th>\n",
       "      <th>47</th>\n",
       "      <th>48</th>\n",
       "      <th>49</th>\n",
       "    </tr>\n",
       "  </thead>\n",
       "  <tbody>\n",
       "    <tr>\n",
       "      <th>0</th>\n",
       "      <td>61</td>\n",
       "      <td>70</td>\n",
       "      <td>53</td>\n",
       "      <td>42</td>\n",
       "      <td>29</td>\n",
       "      <td>48</td>\n",
       "      <td>99</td>\n",
       "      <td>7</td>\n",
       "      <td>22</td>\n",
       "      <td>12</td>\n",
       "      <td>24</td>\n",
       "      <td>42</td>\n",
       "      <td>67</td>\n",
       "      <td>81</td>\n",
       "      <td>49</td>\n",
       "      <td>63</td>\n",
       "      <td>39</td>\n",
       "      <td>89</td>\n",
       "      <td>13</td>\n",
       "      <td>76</td>\n",
       "      <td>7</td>\n",
       "      <td>63</td>\n",
       "      <td>2</td>\n",
       "      <td>69</td>\n",
       "      <td>95</td>\n",
       "      <td>47</td>\n",
       "      <td>40</td>\n",
       "      <td>37</td>\n",
       "      <td>56</td>\n",
       "      <td>73</td>\n",
       "      <td>56</td>\n",
       "      <td>19</td>\n",
       "      <td>48</td>\n",
       "      <td>52</td>\n",
       "      <td>12</td>\n",
       "      <td>39</td>\n",
       "      <td>75</td>\n",
       "      <td>48</td>\n",
       "      <td>1</td>\n",
       "      <td>50</td>\n",
       "      <td>9</td>\n",
       "      <td>21</td>\n",
       "      <td>81</td>\n",
       "      <td>91</td>\n",
       "      <td>3</td>\n",
       "      <td>72</td>\n",
       "      <td>92</td>\n",
       "      <td>44</td>\n",
       "      <td>47</td>\n",
       "      <td>41</td>\n",
       "    </tr>\n",
       "    <tr>\n",
       "      <th>1</th>\n",
       "      <td>6</td>\n",
       "      <td>27</td>\n",
       "      <td>8</td>\n",
       "      <td>89</td>\n",
       "      <td>14</td>\n",
       "      <td>66</td>\n",
       "      <td>58</td>\n",
       "      <td>37</td>\n",
       "      <td>57</td>\n",
       "      <td>19</td>\n",
       "      <td>16</td>\n",
       "      <td>31</td>\n",
       "      <td>55</td>\n",
       "      <td>45</td>\n",
       "      <td>11</td>\n",
       "      <td>81</td>\n",
       "      <td>27</td>\n",
       "      <td>6</td>\n",
       "      <td>49</td>\n",
       "      <td>87</td>\n",
       "      <td>62</td>\n",
       "      <td>29</td>\n",
       "      <td>26</td>\n",
       "      <td>59</td>\n",
       "      <td>80</td>\n",
       "      <td>45</td>\n",
       "      <td>8</td>\n",
       "      <td>4</td>\n",
       "      <td>57</td>\n",
       "      <td>25</td>\n",
       "      <td>61</td>\n",
       "      <td>86</td>\n",
       "      <td>4</td>\n",
       "      <td>10</td>\n",
       "      <td>80</td>\n",
       "      <td>52</td>\n",
       "      <td>32</td>\n",
       "      <td>65</td>\n",
       "      <td>87</td>\n",
       "      <td>4</td>\n",
       "      <td>40</td>\n",
       "      <td>42</td>\n",
       "      <td>23</td>\n",
       "      <td>10</td>\n",
       "      <td>38</td>\n",
       "      <td>83</td>\n",
       "      <td>0</td>\n",
       "      <td>5</td>\n",
       "      <td>74</td>\n",
       "      <td>44</td>\n",
       "    </tr>\n",
       "    <tr>\n",
       "      <th>2</th>\n",
       "      <td>91</td>\n",
       "      <td>1</td>\n",
       "      <td>65</td>\n",
       "      <td>57</td>\n",
       "      <td>5</td>\n",
       "      <td>23</td>\n",
       "      <td>90</td>\n",
       "      <td>33</td>\n",
       "      <td>15</td>\n",
       "      <td>64</td>\n",
       "      <td>31</td>\n",
       "      <td>53</td>\n",
       "      <td>39</td>\n",
       "      <td>4</td>\n",
       "      <td>17</td>\n",
       "      <td>48</td>\n",
       "      <td>31</td>\n",
       "      <td>13</td>\n",
       "      <td>92</td>\n",
       "      <td>42</td>\n",
       "      <td>28</td>\n",
       "      <td>85</td>\n",
       "      <td>61</td>\n",
       "      <td>47</td>\n",
       "      <td>53</td>\n",
       "      <td>29</td>\n",
       "      <td>27</td>\n",
       "      <td>95</td>\n",
       "      <td>13</td>\n",
       "      <td>2</td>\n",
       "      <td>89</td>\n",
       "      <td>92</td>\n",
       "      <td>8</td>\n",
       "      <td>30</td>\n",
       "      <td>42</td>\n",
       "      <td>83</td>\n",
       "      <td>13</td>\n",
       "      <td>22</td>\n",
       "      <td>1</td>\n",
       "      <td>84</td>\n",
       "      <td>36</td>\n",
       "      <td>79</td>\n",
       "      <td>62</td>\n",
       "      <td>97</td>\n",
       "      <td>72</td>\n",
       "      <td>44</td>\n",
       "      <td>0</td>\n",
       "      <td>67</td>\n",
       "      <td>63</td>\n",
       "      <td>85</td>\n",
       "    </tr>\n",
       "  </tbody>\n",
       "</table>\n",
       "</div>"
      ],
      "text/plain": [
       "   0   1   2   3   4   5   6   7   8   9   10  11  12  13  14  15  16  17  18  \\\n",
       "0  61  70  53  42  29  48  99   7  22  12  24  42  67  81  49  63  39  89  13   \n",
       "1   6  27   8  89  14  66  58  37  57  19  16  31  55  45  11  81  27   6  49   \n",
       "2  91   1  65  57   5  23  90  33  15  64  31  53  39   4  17  48  31  13  92   \n",
       "\n",
       "   19  20  21  22  23  24  25  26  27  28  29  30  31  32  33  34  35  36  37  \\\n",
       "0  76   7  63   2  69  95  47  40  37  56  73  56  19  48  52  12  39  75  48   \n",
       "1  87  62  29  26  59  80  45   8   4  57  25  61  86   4  10  80  52  32  65   \n",
       "2  42  28  85  61  47  53  29  27  95  13   2  89  92   8  30  42  83  13  22   \n",
       "\n",
       "   38  39  40  41  42  43  44  45  46  47  48  49  \n",
       "0   1  50   9  21  81  91   3  72  92  44  47  41  \n",
       "1  87   4  40  42  23  10  38  83   0   5  74  44  \n",
       "2   1  84  36  79  62  97  72  44   0  67  63  85  "
      ]
     },
     "metadata": {},
     "output_type": "display_data"
    }
   ],
   "source": [
    "display_full_df(df)"
   ]
  },
  {
   "cell_type": "code",
   "execution_count": null,
   "id": "62a895c5",
   "metadata": {},
   "outputs": [
    {
     "data": {
      "text/plain": [
       "0     61\n",
       "1     70\n",
       "2     53\n",
       "3     42\n",
       "4     29\n",
       "5     48\n",
       "6     99\n",
       "7      7\n",
       "8     22\n",
       "9     12\n",
       "10    24\n",
       "11    42\n",
       "12    67\n",
       "13    81\n",
       "14    49\n",
       "15    63\n",
       "16    39\n",
       "17    89\n",
       "18    13\n",
       "19    76\n",
       "20     7\n",
       "21    63\n",
       "22     2\n",
       "23    69\n",
       "24    95\n",
       "25    47\n",
       "26    40\n",
       "27    37\n",
       "28    56\n",
       "29    73\n",
       "30    56\n",
       "31    19\n",
       "32    48\n",
       "33    52\n",
       "34    12\n",
       "35    39\n",
       "36    75\n",
       "37    48\n",
       "38     1\n",
       "39    50\n",
       "40     9\n",
       "41    21\n",
       "42    81\n",
       "43    91\n",
       "44     3\n",
       "45    72\n",
       "46    92\n",
       "47    44\n",
       "48    47\n",
       "49    41\n",
       "Name: 0, dtype: int64"
      ]
     },
     "metadata": {},
     "output_type": "display_data"
    }
   ],
   "source": [
    "#| hide\n",
    "display_full_df(df.loc[0, :].T)"
   ]
  },
  {
   "cell_type": "code",
   "execution_count": null,
   "id": "014c8d17",
   "metadata": {},
   "outputs": [],
   "source": [
    "msg = 'should raise a TypeError'\n",
    "contains = 'df must me a pandas `DataFrame` or `Series`'\n",
    "\n",
    "test_fail(display_full_df, args=['a string'], msg=msg, contains=contains)"
   ]
  },
  {
   "cell_type": "code",
   "execution_count": null,
   "id": "5622ffa4",
   "metadata": {},
   "outputs": [],
   "source": [
    "#| hide\n",
    "nbdev_export()"
   ]
  }
 ],
 "metadata": {
  "kernelspec": {
   "display_name": "python3",
   "language": "python",
   "name": "python3"
  }
 },
 "nbformat": 4,
 "nbformat_minor": 5
}
