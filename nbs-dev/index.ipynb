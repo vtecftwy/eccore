{
 "cells": [
  {
   "cell_type": "code",
   "execution_count": null,
   "metadata": {},
   "outputs": [],
   "source": [
    "#| hide"
   ]
  },
  {
   "cell_type": "markdown",
   "metadata": {},
   "source": [
    "# `eccore`\n",
    "\n",
    "> Package regrouping useful functions and classe I use often. Inspired by `fastcore` and adding to it. "
   ]
  },
  {
   "cell_type": "markdown",
   "metadata": {},
   "source": [
    "## Installation:\n",
    "\n",
    "**PyPi**\n",
    "\n",
    "`pip install eccore`\n",
    "\n",
    "**GitHub**\n",
    "\n",
    "Two options to get versions which are not yet released on PyPi:\n",
    "\n",
    "1. clone the github [repo](https://github.com/vtecftwy/eccore) and install it in edit mode from within the cloned repo:\n",
    "```\n",
    "pip install -e .\n",
    "```\n",
    "2. install with pip from the github repo directly for hosted virtual machines:\n",
    "```\n",
    "pip install git+https://github.com/vtecftwy/eccore.git@main\n",
    "pip install git+https://github.com/vtecftwy/eccore.git@dev\n",
    "```"
   ]
  },
  {
   "cell_type": "markdown",
   "metadata": {},
   "source": [
    "## Modules:\n",
    "\n",
    "WIP"
   ]
  }
 ],
 "metadata": {
  "kernelspec": {
   "display_name": "python3",
   "language": "python",
   "name": "python3"
  }
 },
 "nbformat": 4,
 "nbformat_minor": 4
}
